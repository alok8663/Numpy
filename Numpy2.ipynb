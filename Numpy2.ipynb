{
  "nbformat": 4,
  "nbformat_minor": 0,
  "metadata": {
    "colab": {
      "provenance": []
    },
    "kernelspec": {
      "name": "python3",
      "display_name": "Python 3"
    },
    "language_info": {
      "name": "python"
    }
  },
  "cells": [
    {
      "cell_type": "markdown",
      "source": [
        "[![Open In Colab](https://colab.research.google.com/assets/colab-badge.svg)](https://colab.research.google.com/github/alok8663/Numpy/blob/main/Numpy2.ipynb)\n"
      ],
      "metadata": {
        "id": "47ZAT07GTysx"
      }
    },
    {
      "cell_type": "markdown",
      "source": [
        "# Arithmetic Functions"
      ],
      "metadata": {
        "id": "WTULWNXyKLAY"
      }
    },
    {
      "cell_type": "code",
      "execution_count": 1,
      "metadata": {
        "colab": {
          "base_uri": "https://localhost:8080/"
        },
        "id": "a9vfRWRjFFFV",
        "outputId": "96c00082-030e-41d3-d558-b15e4ac0250b"
      },
      "outputs": [
        {
          "output_type": "stream",
          "name": "stdout",
          "text": [
            "1    0\n",
            "423    2\n"
          ]
        }
      ],
      "source": [
        "import numpy as np\n",
        "\n",
        "var=np.array([1,5,423,89,4])\n",
        "print(np.min(var),\"  \",np.argmin(var))\n",
        "print(np.max(var),\"  \",np.argmax(var))"
      ]
    },
    {
      "cell_type": "code",
      "source": [
        "var1=np.array([[3,89,4],[5,7,8]])\n",
        "print(np.max(var1,axis=0))\n",
        "print(np.max(var1,axis=1))"
      ],
      "metadata": {
        "colab": {
          "base_uri": "https://localhost:8080/"
        },
        "id": "eFyoFWxXHVmU",
        "outputId": "2c2fe96b-723e-4a5a-9199-b43378e030ca"
      },
      "execution_count": 2,
      "outputs": [
        {
          "output_type": "stream",
          "name": "stdout",
          "text": [
            "[ 5 89  8]\n",
            "[89  8]\n"
          ]
        }
      ]
    },
    {
      "cell_type": "code",
      "source": [
        "print(np.sqrt(var))"
      ],
      "metadata": {
        "colab": {
          "base_uri": "https://localhost:8080/"
        },
        "id": "fzXCI5rvJq4P",
        "outputId": "190563d2-3015-4bf5-f84c-d759e07989bf"
      },
      "execution_count": 3,
      "outputs": [
        {
          "output_type": "stream",
          "name": "stdout",
          "text": [
            "[ 1.          2.23606798 20.5669638   9.43398113  2.        ]\n"
          ]
        }
      ]
    },
    {
      "cell_type": "code",
      "source": [
        "print(np.sin(var))"
      ],
      "metadata": {
        "colab": {
          "base_uri": "https://localhost:8080/"
        },
        "id": "64n5-mheJtob",
        "outputId": "8a33c647-7886-485a-9de9-bda13a97a6f0"
      },
      "execution_count": 4,
      "outputs": [
        {
          "output_type": "stream",
          "name": "stdout",
          "text": [
            "[ 0.84147098 -0.95892427  0.89791441  0.86006941 -0.7568025 ]\n"
          ]
        }
      ]
    },
    {
      "cell_type": "code",
      "source": [
        "print(np.cos(var))"
      ],
      "metadata": {
        "colab": {
          "base_uri": "https://localhost:8080/"
        },
        "id": "78rkfWC5Jw5u",
        "outputId": "789f2d39-27fd-4eff-90b7-5848a37497eb"
      },
      "execution_count": 5,
      "outputs": [
        {
          "output_type": "stream",
          "name": "stdout",
          "text": [
            "[ 0.54030231  0.28366219 -0.44017009  0.51017704 -0.65364362]\n"
          ]
        }
      ]
    },
    {
      "cell_type": "code",
      "source": [
        "print(np.cumsum(var))"
      ],
      "metadata": {
        "colab": {
          "base_uri": "https://localhost:8080/"
        },
        "id": "Vo_mtfxEJzi5",
        "outputId": "bcf28da8-88ec-42f6-d6ad-d13db3f8a4dd"
      },
      "execution_count": 6,
      "outputs": [
        {
          "output_type": "stream",
          "name": "stdout",
          "text": [
            "[  1   6 429 518 522]\n"
          ]
        }
      ]
    },
    {
      "cell_type": "markdown",
      "source": [
        "# Shaping and Reshaping in Numpy Arrays"
      ],
      "metadata": {
        "id": "dwWDhca8LSU0"
      }
    },
    {
      "cell_type": "code",
      "source": [
        "arr=np.array([[1,2,3],[3,4,5]])\n",
        "print(arr)\n",
        "print(np.shape(arr))"
      ],
      "metadata": {
        "colab": {
          "base_uri": "https://localhost:8080/"
        },
        "id": "AYYZ4xHrJ4M6",
        "outputId": "159eeb5b-01b2-4d0d-b011-a77132a5c4da"
      },
      "execution_count": 7,
      "outputs": [
        {
          "output_type": "stream",
          "name": "stdout",
          "text": [
            "[[1 2 3]\n",
            " [3 4 5]]\n",
            "(2, 3)\n"
          ]
        }
      ]
    },
    {
      "cell_type": "code",
      "source": [
        "arr1=np.array([[1,9,3],[3,7,5]])\n",
        "print(arr1)\n",
        "print(arr1.shape)"
      ],
      "metadata": {
        "colab": {
          "base_uri": "https://localhost:8080/"
        },
        "id": "155yo2_JMJ5R",
        "outputId": "dc616e39-21e3-4d22-efac-2573fdca7fb6"
      },
      "execution_count": 8,
      "outputs": [
        {
          "output_type": "stream",
          "name": "stdout",
          "text": [
            "[[1 9 3]\n",
            " [3 7 5]]\n",
            "(2, 3)\n"
          ]
        }
      ]
    },
    {
      "cell_type": "code",
      "source": [
        "var2=np.array([1,2,3,4,5,6,7,9])\n",
        "x=var2.reshape(4,2)\n",
        "print(var2)\n",
        "print(var2.ndim)\n",
        "print(' ')\n",
        "print(x)\n",
        "print(x.ndim)"
      ],
      "metadata": {
        "colab": {
          "base_uri": "https://localhost:8080/"
        },
        "id": "YNkS_LmmM1op",
        "outputId": "13d5e740-11f7-4a9b-bc95-cbd286fa88a2"
      },
      "execution_count": 9,
      "outputs": [
        {
          "output_type": "stream",
          "name": "stdout",
          "text": [
            "[1 2 3 4 5 6 7 9]\n",
            "1\n",
            " \n",
            "[[1 2]\n",
            " [3 4]\n",
            " [5 6]\n",
            " [7 9]]\n",
            "2\n"
          ]
        }
      ]
    },
    {
      "cell_type": "code",
      "source": [
        "var3=np.array([1,2,3,4,5,6,7,8,9,10,11,12])\n",
        "x1=var3.reshape(2,3,2)\n",
        "print(x1)\n",
        "print(x1.ndim)"
      ],
      "metadata": {
        "colab": {
          "base_uri": "https://localhost:8080/"
        },
        "id": "JO2TOAt-PIpg",
        "outputId": "30fbd82d-9fa6-49ea-ae61-82501836e5ae"
      },
      "execution_count": 10,
      "outputs": [
        {
          "output_type": "stream",
          "name": "stdout",
          "text": [
            "[[[ 1  2]\n",
            "  [ 3  4]\n",
            "  [ 5  6]]\n",
            "\n",
            " [[ 7  8]\n",
            "  [ 9 10]\n",
            "  [11 12]]]\n",
            "3\n"
          ]
        }
      ]
    },
    {
      "cell_type": "code",
      "source": [
        "x2=x1.reshape(-1)\n",
        "print(x2)\n",
        "print(x2.ndim)"
      ],
      "metadata": {
        "colab": {
          "base_uri": "https://localhost:8080/"
        },
        "id": "MHvFZP2bSnCj",
        "outputId": "9817a64d-aad6-49b8-c159-98f5a4e4d41f"
      },
      "execution_count": 11,
      "outputs": [
        {
          "output_type": "stream",
          "name": "stdout",
          "text": [
            "[ 1  2  3  4  5  6  7  8  9 10 11 12]\n",
            "1\n"
          ]
        }
      ]
    },
    {
      "cell_type": "markdown",
      "source": [
        "# Broadcasting in Numpy Arrays"
      ],
      "metadata": {
        "id": "tQw8AJJFVqlU"
      }
    },
    {
      "cell_type": "code",
      "source": [
        "arr2=np.array([1,2,3])\n",
        "print(arr2)\n",
        "print(arr2.shape)"
      ],
      "metadata": {
        "colab": {
          "base_uri": "https://localhost:8080/"
        },
        "id": "zYocNHqLSsg6",
        "outputId": "ffc4d9bd-87a1-47b4-ab55-4de28179e8a3"
      },
      "execution_count": 12,
      "outputs": [
        {
          "output_type": "stream",
          "name": "stdout",
          "text": [
            "[1 2 3]\n",
            "(3,)\n"
          ]
        }
      ]
    },
    {
      "cell_type": "code",
      "source": [
        "arr3=np.array([[1],[2],[3]])\n",
        "print(arr3)\n",
        "print(arr3.shape)"
      ],
      "metadata": {
        "colab": {
          "base_uri": "https://localhost:8080/"
        },
        "id": "TdWqIyHFV6Q3",
        "outputId": "c5c37b8e-2735-4cfd-ca07-671368a513c8"
      },
      "execution_count": 13,
      "outputs": [
        {
          "output_type": "stream",
          "name": "stdout",
          "text": [
            "[[1]\n",
            " [2]\n",
            " [3]]\n",
            "(3, 1)\n"
          ]
        }
      ]
    },
    {
      "cell_type": "code",
      "source": [
        "print(arr2+arr3)"
      ],
      "metadata": {
        "colab": {
          "base_uri": "https://localhost:8080/"
        },
        "id": "_L-Q3XC2WSWv",
        "outputId": "1cddc36b-bc34-46d2-c3fa-013ac25278b5"
      },
      "execution_count": 14,
      "outputs": [
        {
          "output_type": "stream",
          "name": "stdout",
          "text": [
            "[[2 3 4]\n",
            " [3 4 5]\n",
            " [4 5 6]]\n"
          ]
        }
      ]
    },
    {
      "cell_type": "markdown",
      "source": [
        "# Indexing"
      ],
      "metadata": {
        "id": "Bs9s4ejZy2ii"
      }
    },
    {
      "cell_type": "code",
      "source": [
        "a=np.array([6,7,8,5,4])\n",
        "print(a[3])\n",
        "print(a[-3])"
      ],
      "metadata": {
        "colab": {
          "base_uri": "https://localhost:8080/"
        },
        "id": "0q9dc7veyoNz",
        "outputId": "1a468b4a-497b-46bb-b5b7-7e93c708ac79"
      },
      "execution_count": 15,
      "outputs": [
        {
          "output_type": "stream",
          "name": "stdout",
          "text": [
            "5\n",
            "8\n"
          ]
        }
      ]
    },
    {
      "cell_type": "code",
      "source": [
        "b=np.array([[4,5,6],[8,1,2]])\n",
        "print(b)\n",
        "print(b.ndim)\n",
        "print()\n",
        "print(b[1][2])\n",
        "print(b[0,2])"
      ],
      "metadata": {
        "colab": {
          "base_uri": "https://localhost:8080/"
        },
        "id": "Hd7G4v2Qz0yA",
        "outputId": "19b3f136-527e-4a35-f4e0-8eff6bd23e14"
      },
      "execution_count": 16,
      "outputs": [
        {
          "output_type": "stream",
          "name": "stdout",
          "text": [
            "[[4 5 6]\n",
            " [8 1 2]]\n",
            "2\n",
            "\n",
            "2\n",
            "6\n"
          ]
        }
      ]
    },
    {
      "cell_type": "markdown",
      "source": [
        "# Slicing"
      ],
      "metadata": {
        "id": "gmLNeqpk1wP_"
      }
    },
    {
      "cell_type": "code",
      "source": [
        "a=np.array([6,7,8,5,4,3,2,1])\n",
        "print(a[1:4])"
      ],
      "metadata": {
        "colab": {
          "base_uri": "https://localhost:8080/"
        },
        "id": "fqSXfUvE0QYo",
        "outputId": "0b644fc5-c677-465c-a21a-b8bc957fd576"
      },
      "execution_count": 17,
      "outputs": [
        {
          "output_type": "stream",
          "name": "stdout",
          "text": [
            "[7 8 5]\n"
          ]
        }
      ]
    },
    {
      "cell_type": "code",
      "source": [
        "b=np.array([[4,5,6],[8,1,2]])\n",
        "print(b)\n",
        "print(b[1,1:])"
      ],
      "metadata": {
        "colab": {
          "base_uri": "https://localhost:8080/"
        },
        "id": "pPKKgleD4I27",
        "outputId": "8e84a7f0-5d3e-46a9-ac35-7b4055d07abc"
      },
      "execution_count": 18,
      "outputs": [
        {
          "output_type": "stream",
          "name": "stdout",
          "text": [
            "[[4 5 6]\n",
            " [8 1 2]]\n",
            "[1 2]\n"
          ]
        }
      ]
    },
    {
      "cell_type": "markdown",
      "source": [
        "#Iteration"
      ],
      "metadata": {
        "id": "Qy4JHwgw-z3J"
      }
    },
    {
      "cell_type": "code",
      "source": [
        "a=np.array([6,7,8,5,4,3,2,1])\n",
        "print(a)\n",
        "print()\n",
        "for i in a:\n",
        "  print(i)"
      ],
      "metadata": {
        "colab": {
          "base_uri": "https://localhost:8080/"
        },
        "id": "q_af1YN1-2g1",
        "outputId": "be5087b0-bd32-4c7c-e5ba-7e8cfd723f5b"
      },
      "execution_count": 19,
      "outputs": [
        {
          "output_type": "stream",
          "name": "stdout",
          "text": [
            "[6 7 8 5 4 3 2 1]\n",
            "\n",
            "6\n",
            "7\n",
            "8\n",
            "5\n",
            "4\n",
            "3\n",
            "2\n",
            "1\n"
          ]
        }
      ]
    },
    {
      "cell_type": "code",
      "source": [
        "b=np.array([[4,5,6],[8,1,2]])\n",
        "print(b)\n",
        "print()\n",
        "for j in b:\n",
        "  print(j)"
      ],
      "metadata": {
        "colab": {
          "base_uri": "https://localhost:8080/"
        },
        "id": "kixvnZlm_SHE",
        "outputId": "dee41a3d-445f-4630-beca-b729adde32ee"
      },
      "execution_count": 20,
      "outputs": [
        {
          "output_type": "stream",
          "name": "stdout",
          "text": [
            "[[4 5 6]\n",
            " [8 1 2]]\n",
            "\n",
            "[4 5 6]\n",
            "[8 1 2]\n"
          ]
        }
      ]
    },
    {
      "cell_type": "code",
      "source": [
        "for j in b:\n",
        "  for k in j:\n",
        "    print(k)"
      ],
      "metadata": {
        "colab": {
          "base_uri": "https://localhost:8080/"
        },
        "id": "R9_3fsau_zCh",
        "outputId": "7d7f3713-ad8c-4f1f-b702-ab7ccfd33181"
      },
      "execution_count": 21,
      "outputs": [
        {
          "output_type": "stream",
          "name": "stdout",
          "text": [
            "4\n",
            "5\n",
            "6\n",
            "8\n",
            "1\n",
            "2\n"
          ]
        }
      ]
    },
    {
      "cell_type": "code",
      "source": [
        "c=np.array([[[4,5,6],[8,1,2]]])\n",
        "for i in c:\n",
        "  for j in i:\n",
        "    for k in j:\n",
        "      print(k)"
      ],
      "metadata": {
        "colab": {
          "base_uri": "https://localhost:8080/"
        },
        "id": "fT8Y9H0L_7Zr",
        "outputId": "a5b060c6-de02-461d-9314-a982eac2415a"
      },
      "execution_count": 22,
      "outputs": [
        {
          "output_type": "stream",
          "name": "stdout",
          "text": [
            "4\n",
            "5\n",
            "6\n",
            "8\n",
            "1\n",
            "2\n"
          ]
        }
      ]
    },
    {
      "cell_type": "code",
      "source": [
        "for i in np.nditer(c):\n",
        "  print(i)"
      ],
      "metadata": {
        "colab": {
          "base_uri": "https://localhost:8080/"
        },
        "id": "zOZ-i1kwGL8x",
        "outputId": "ec540d76-3ba3-4be1-8664-b7f0ca735996"
      },
      "execution_count": 23,
      "outputs": [
        {
          "output_type": "stream",
          "name": "stdout",
          "text": [
            "4\n",
            "5\n",
            "6\n",
            "8\n",
            "1\n",
            "2\n"
          ]
        }
      ]
    },
    {
      "cell_type": "code",
      "source": [
        "for i,d in np.ndenumerate(c):\n",
        "  print(i,d)"
      ],
      "metadata": {
        "colab": {
          "base_uri": "https://localhost:8080/"
        },
        "id": "zwa0htDaHU0O",
        "outputId": "65fa0c80-931a-42aa-e3e3-0ea2a19a671d"
      },
      "execution_count": 24,
      "outputs": [
        {
          "output_type": "stream",
          "name": "stdout",
          "text": [
            "(0, 0, 0) 4\n",
            "(0, 0, 1) 5\n",
            "(0, 0, 2) 6\n",
            "(0, 1, 0) 8\n",
            "(0, 1, 1) 1\n",
            "(0, 1, 2) 2\n"
          ]
        }
      ]
    },
    {
      "cell_type": "markdown",
      "source": [
        "# Copy vs View"
      ],
      "metadata": {
        "id": "FHkfCvHpIeoW"
      }
    },
    {
      "cell_type": "code",
      "source": [
        "a=np.array([6,7,8,5,4,3,2,1])\n",
        "co=a.copy()\n",
        "print('a: ',a)\n",
        "print('co: ',co)"
      ],
      "metadata": {
        "colab": {
          "base_uri": "https://localhost:8080/"
        },
        "id": "EnMCdzfWIG5v",
        "outputId": "b5df7569-1335-4f9b-d2f4-629efaf6d639"
      },
      "execution_count": 25,
      "outputs": [
        {
          "output_type": "stream",
          "name": "stdout",
          "text": [
            "a:  [6 7 8 5 4 3 2 1]\n",
            "co:  [6 7 8 5 4 3 2 1]\n"
          ]
        }
      ]
    },
    {
      "cell_type": "code",
      "source": [
        "a=np.array([6,7,8,5,4,3,2,1])\n",
        "vi=a.view()\n",
        "print('a: ',a)\n",
        "print('view: ',vi)"
      ],
      "metadata": {
        "colab": {
          "base_uri": "https://localhost:8080/"
        },
        "id": "13AAqTzJKZ1Z",
        "outputId": "98e838c6-87f2-462b-a7ee-baef93489cc8"
      },
      "execution_count": 26,
      "outputs": [
        {
          "output_type": "stream",
          "name": "stdout",
          "text": [
            "a:  [6 7 8 5 4 3 2 1]\n",
            "view:  [6 7 8 5 4 3 2 1]\n"
          ]
        }
      ]
    },
    {
      "cell_type": "markdown",
      "source": [
        "# Join Array"
      ],
      "metadata": {
        "id": "x8gj0aMpMOxG"
      }
    },
    {
      "cell_type": "code",
      "source": [
        "var5=np.array([1,2,3,4])\n",
        "var6=np.array([9,8,7,6])\n",
        "ar=np.concatenate((var5,var6))\n",
        "print(ar)"
      ],
      "metadata": {
        "colab": {
          "base_uri": "https://localhost:8080/"
        },
        "id": "gwKCM9lCMNm-",
        "outputId": "254633ba-7758-40a3-a9b3-648e9fcc130f"
      },
      "execution_count": 27,
      "outputs": [
        {
          "output_type": "stream",
          "name": "stdout",
          "text": [
            "[1 2 3 4 9 8 7 6]\n"
          ]
        }
      ]
    },
    {
      "cell_type": "code",
      "source": [
        "b1=np.array([[4,5,6],[8,1,2]])\n",
        "print(b1)\n",
        "print()\n",
        "b2=np.array([[42,51,64],[83,12,21]])\n",
        "print(b2)\n",
        "print()\n",
        "ar1=np.concatenate((b1,b2),axis=1)\n",
        "print(ar1)\n",
        "print()\n",
        "ar2=np.concatenate((b1,b2),axis=0)\n",
        "print(ar2)"
      ],
      "metadata": {
        "colab": {
          "base_uri": "https://localhost:8080/"
        },
        "id": "j86z0CelM1cU",
        "outputId": "4fa78d80-8600-4161-968c-e7c494256016"
      },
      "execution_count": 28,
      "outputs": [
        {
          "output_type": "stream",
          "name": "stdout",
          "text": [
            "[[4 5 6]\n",
            " [8 1 2]]\n",
            "\n",
            "[[42 51 64]\n",
            " [83 12 21]]\n",
            "\n",
            "[[ 4  5  6 42 51 64]\n",
            " [ 8  1  2 83 12 21]]\n",
            "\n",
            "[[ 4  5  6]\n",
            " [ 8  1  2]\n",
            " [42 51 64]\n",
            " [83 12 21]]\n"
          ]
        }
      ]
    },
    {
      "cell_type": "code",
      "source": [
        "b3=np.array([4,5,6])\n",
        "b4=np.array([42,51,64])\n",
        "ar3=np.stack((b3,b4),axis=1)\n",
        "ar4=np.hstack((b3,b4)) #rows\n",
        "ar5=np.vstack((b3,b4)) #columns\n",
        "ar6=np.dstack((b3,b4)) #height\n",
        "print(ar3)\n",
        "print()\n",
        "print(ar4)\n",
        "print()\n",
        "print(ar5)\n",
        "print()\n",
        "print(ar6)"
      ],
      "metadata": {
        "colab": {
          "base_uri": "https://localhost:8080/"
        },
        "id": "UGwDmHr3OFgS",
        "outputId": "f2428bb0-4e09-4b63-cecc-34d53d3577f0"
      },
      "execution_count": 29,
      "outputs": [
        {
          "output_type": "stream",
          "name": "stdout",
          "text": [
            "[[ 4 42]\n",
            " [ 5 51]\n",
            " [ 6 64]]\n",
            "\n",
            "[ 4  5  6 42 51 64]\n",
            "\n",
            "[[ 4  5  6]\n",
            " [42 51 64]]\n",
            "\n",
            "[[[ 4 42]\n",
            "  [ 5 51]\n",
            "  [ 6 64]]]\n"
          ]
        }
      ]
    },
    {
      "cell_type": "markdown",
      "source": [
        "# Split Array"
      ],
      "metadata": {
        "id": "f045UbL4QtWx"
      }
    },
    {
      "cell_type": "code",
      "source": [
        "b4=np.array([4,5,6,7,8,9])\n",
        "print(b4)\n",
        "print()\n",
        "ar_split=np.array_split(b4,4)\n",
        "print(ar_split)\n",
        "print(type(ar_split))"
      ],
      "metadata": {
        "colab": {
          "base_uri": "https://localhost:8080/"
        },
        "id": "ows-5F1sPJvg",
        "outputId": "b7d3126c-ea67-4434-f336-d4399c7408d2"
      },
      "execution_count": 30,
      "outputs": [
        {
          "output_type": "stream",
          "name": "stdout",
          "text": [
            "[4 5 6 7 8 9]\n",
            "\n",
            "[array([4, 5]), array([6, 7]), array([8]), array([9])]\n",
            "<class 'list'>\n"
          ]
        }
      ]
    }
  ]
}