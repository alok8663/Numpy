{
  "nbformat": 4,
  "nbformat_minor": 0,
  "metadata": {
    "colab": {
      "provenance": []
    },
    "kernelspec": {
      "name": "python3",
      "display_name": "Python 3"
    },
    "language_info": {
      "name": "python"
    }
  },
  "cells": [
    {
      "cell_type": "markdown",
      "source": [
        "[![Open In Colab](https://colab.research.google.com/assets/colab-badge.svg)](https://colab.research.google.com/github/alok8663/Numpy/blob/main/Numpy1.ipynb)\n"
      ],
      "metadata": {
        "id": "xR3C1D_uLeij"
      }
    },
    {
      "cell_type": "code",
      "execution_count": null,
      "metadata": {
        "id": "qyPSeQJIUJfE"
      },
      "outputs": [],
      "source": [
        "import numpy as np"
      ]
    },
    {
      "cell_type": "code",
      "source": [
        "x=np.array([1,2,3,4])\n",
        "print(type(x))\n",
        "print(x)"
      ],
      "metadata": {
        "colab": {
          "base_uri": "https://localhost:8080/"
        },
        "id": "qyjRaqA0UOHJ",
        "outputId": "a580f016-8853-4d09-f912-6c95e21ba9e0"
      },
      "execution_count": null,
      "outputs": [
        {
          "output_type": "stream",
          "name": "stdout",
          "text": [
            "<class 'numpy.ndarray'>\n",
            "[1 2 3 4]\n"
          ]
        }
      ]
    },
    {
      "cell_type": "code",
      "source": [
        "y=np.arange(1,6)\n",
        "print(y)\n",
        "print(type(y))"
      ],
      "metadata": {
        "colab": {
          "base_uri": "https://localhost:8080/"
        },
        "id": "DIEZkly3WyUP",
        "outputId": "3e7dc813-a40c-487a-bd29-84b3b8c621d2"
      },
      "execution_count": null,
      "outputs": [
        {
          "output_type": "stream",
          "name": "stdout",
          "text": [
            "[1 2 3 4 5]\n",
            "<class 'numpy.ndarray'>\n"
          ]
        }
      ]
    },
    {
      "cell_type": "code",
      "source": [
        "%timeit [j*4 for j in range(1,5)]"
      ],
      "metadata": {
        "colab": {
          "base_uri": "https://localhost:8080/"
        },
        "id": "9pS8Y5shUVRB",
        "outputId": "114271ab-36f2-405b-a0ca-9846762939ee"
      },
      "execution_count": null,
      "outputs": [
        {
          "output_type": "stream",
          "name": "stdout",
          "text": [
            "723 ns ± 341 ns per loop (mean ± std. dev. of 7 runs, 1000000 loops each)\n"
          ]
        }
      ]
    },
    {
      "cell_type": "code",
      "source": [
        "l=[]\n",
        "for i in range(1,6):\n",
        "  a=int(input(\"a= \"))\n",
        "  l.append(a)\n",
        "print(np.array(l))\n"
      ],
      "metadata": {
        "colab": {
          "base_uri": "https://localhost:8080/"
        },
        "id": "Hnqd0MKEWnfD",
        "outputId": "f6da4f64-4491-4571-a83a-11b945932922"
      },
      "execution_count": null,
      "outputs": [
        {
          "output_type": "stream",
          "name": "stdout",
          "text": [
            "a= 1\n",
            "a= 2\n",
            "a= 3\n",
            "a= 4\n",
            "a= 5\n",
            "[1 2 3 4 5]\n"
          ]
        }
      ]
    },
    {
      "cell_type": "code",
      "source": [
        "print(y.ndim)"
      ],
      "metadata": {
        "colab": {
          "base_uri": "https://localhost:8080/"
        },
        "id": "AXFuMw9KmM8W",
        "outputId": "bcacb67d-3225-4142-975a-dfdaf3e2f201"
      },
      "execution_count": null,
      "outputs": [
        {
          "output_type": "stream",
          "name": "stdout",
          "text": [
            "1\n"
          ]
        }
      ]
    },
    {
      "cell_type": "code",
      "source": [
        "ar2=np.array([[1,2,3],[4,5,6]])\n",
        "print(ar2)\n",
        "print(ar2.ndim)"
      ],
      "metadata": {
        "colab": {
          "base_uri": "https://localhost:8080/"
        },
        "id": "GYNEEsUKnMiD",
        "outputId": "1fb63622-6173-40fc-ec56-4a813a360a42"
      },
      "execution_count": null,
      "outputs": [
        {
          "output_type": "stream",
          "name": "stdout",
          "text": [
            "[[1 2 3]\n",
            " [4 5 6]]\n",
            "2\n"
          ]
        }
      ]
    },
    {
      "cell_type": "code",
      "source": [
        "print(np.shape(ar2))"
      ],
      "metadata": {
        "colab": {
          "base_uri": "https://localhost:8080/"
        },
        "id": "VzhJkJ_4ns4T",
        "outputId": "1586bf16-c792-4962-c32c-4d27235d640c"
      },
      "execution_count": null,
      "outputs": [
        {
          "output_type": "stream",
          "name": "stdout",
          "text": [
            "(2, 3)\n"
          ]
        }
      ]
    },
    {
      "cell_type": "code",
      "source": [
        "arn=np.array([1,2,3,4],ndmin=10)\n",
        "print(arn)\n",
        "print(arn.ndim)"
      ],
      "metadata": {
        "colab": {
          "base_uri": "https://localhost:8080/"
        },
        "id": "N51vqeuOn5XJ",
        "outputId": "cb8bba89-5a5c-4803-db28-005010a97586"
      },
      "execution_count": null,
      "outputs": [
        {
          "output_type": "stream",
          "name": "stdout",
          "text": [
            "[[[[[[[[[[1 2 3 4]]]]]]]]]]\n",
            "10\n"
          ]
        }
      ]
    },
    {
      "cell_type": "markdown",
      "source": [
        "# Zero Array"
      ],
      "metadata": {
        "id": "CN-EHo8wSh21"
      }
    },
    {
      "cell_type": "code",
      "source": [
        "arr1=np.zeros(5)\n",
        "print(arr1)"
      ],
      "metadata": {
        "colab": {
          "base_uri": "https://localhost:8080/"
        },
        "id": "vWz8pCLxpyAG",
        "outputId": "b2c05c5c-88fa-456d-cdab-ae4b594d0f23"
      },
      "execution_count": null,
      "outputs": [
        {
          "output_type": "stream",
          "name": "stdout",
          "text": [
            "[0. 0. 0. 0. 0.]\n"
          ]
        }
      ]
    },
    {
      "cell_type": "code",
      "source": [
        "arr2=np.zeros((2,3))\n",
        "print(arr2)"
      ],
      "metadata": {
        "colab": {
          "base_uri": "https://localhost:8080/"
        },
        "id": "B-_1PvgWH0Am",
        "outputId": "2ec84933-1af7-4b18-b291-560646e16856"
      },
      "execution_count": null,
      "outputs": [
        {
          "output_type": "stream",
          "name": "stdout",
          "text": [
            "[[0. 0. 0.]\n",
            " [0. 0. 0.]]\n"
          ]
        }
      ]
    },
    {
      "cell_type": "markdown",
      "source": [
        "# Ones Array"
      ],
      "metadata": {
        "id": "swMbMOpmSlEJ"
      }
    },
    {
      "cell_type": "code",
      "source": [
        "arr3=np.ones(4)\n",
        "print(arr3)"
      ],
      "metadata": {
        "colab": {
          "base_uri": "https://localhost:8080/"
        },
        "id": "jP8yFgaVH0LJ",
        "outputId": "cb1fd60a-a7a2-4966-d778-b25d151d2049"
      },
      "execution_count": null,
      "outputs": [
        {
          "output_type": "stream",
          "name": "stdout",
          "text": [
            "[1. 1. 1. 1.]\n"
          ]
        }
      ]
    },
    {
      "cell_type": "code",
      "source": [
        "arr4=np.ones((2,5))\n",
        "print(arr4)"
      ],
      "metadata": {
        "colab": {
          "base_uri": "https://localhost:8080/"
        },
        "id": "484-nQJjSqrP",
        "outputId": "7c67bf4d-86bf-4f6d-cf77-8dcb71aeeaaa"
      },
      "execution_count": null,
      "outputs": [
        {
          "output_type": "stream",
          "name": "stdout",
          "text": [
            "[[1. 1. 1. 1. 1.]\n",
            " [1. 1. 1. 1. 1.]]\n"
          ]
        }
      ]
    },
    {
      "cell_type": "markdown",
      "source": [
        "# Creating an Empty Array"
      ],
      "metadata": {
        "id": "exCaU5p9Uei9"
      }
    },
    {
      "cell_type": "code",
      "source": [
        "arr_em=np.empty(5)\n",
        "print(arr_em)"
      ],
      "metadata": {
        "colab": {
          "base_uri": "https://localhost:8080/"
        },
        "id": "ZalVOnFjSvcn",
        "outputId": "c4cc2a8a-7f87-453e-bb6d-a9be491a35df"
      },
      "execution_count": null,
      "outputs": [
        {
          "output_type": "stream",
          "name": "stdout",
          "text": [
            "[0. 0. 0. 0. 0.]\n"
          ]
        }
      ]
    },
    {
      "cell_type": "markdown",
      "source": [
        "# An array with a range of elements"
      ],
      "metadata": {
        "id": "1hEBSe7ZU42M"
      }
    },
    {
      "cell_type": "code",
      "source": [
        "arr5=np.arange(1,8)\n",
        "print(arr5)"
      ],
      "metadata": {
        "colab": {
          "base_uri": "https://localhost:8080/"
        },
        "id": "DiMrh4cPUd-B",
        "outputId": "98aa67c9-ad6b-4e71-93f3-3b5181b98556"
      },
      "execution_count": null,
      "outputs": [
        {
          "output_type": "stream",
          "name": "stdout",
          "text": [
            "[1 2 3 4 5 6 7]\n"
          ]
        }
      ]
    },
    {
      "cell_type": "markdown",
      "source": [
        "# Diagonal Elements filled with 1"
      ],
      "metadata": {
        "id": "kEw5tkrgV8G9"
      }
    },
    {
      "cell_type": "code",
      "source": [
        "arr_dia=np.eye(3)\n",
        "print(arr_dia)"
      ],
      "metadata": {
        "colab": {
          "base_uri": "https://localhost:8080/"
        },
        "id": "45E87i-cVCTt",
        "outputId": "c72ccbfd-e3c8-477f-bbe8-0f2c9c0dea7d"
      },
      "execution_count": null,
      "outputs": [
        {
          "output_type": "stream",
          "name": "stdout",
          "text": [
            "[[1. 0. 0.]\n",
            " [0. 1. 0.]\n",
            " [0. 0. 1.]]\n"
          ]
        }
      ]
    },
    {
      "cell_type": "code",
      "source": [
        "arr_dia2=np.eye(4,3)\n",
        "print(arr_dia2)"
      ],
      "metadata": {
        "colab": {
          "base_uri": "https://localhost:8080/"
        },
        "id": "tqwN_ZBBWFet",
        "outputId": "b6b95f25-f29e-4f47-a143-839d75c04d3d"
      },
      "execution_count": null,
      "outputs": [
        {
          "output_type": "stream",
          "name": "stdout",
          "text": [
            "[[1. 0. 0.]\n",
            " [0. 1. 0.]\n",
            " [0. 0. 1.]\n",
            " [0. 0. 0.]]\n"
          ]
        }
      ]
    },
    {
      "cell_type": "markdown",
      "source": [
        "# Linspace"
      ],
      "metadata": {
        "id": "3mJKoJU4W49T"
      }
    },
    {
      "cell_type": "code",
      "source": [
        "arr_lin=np.linspace(0,20,num=5)\n",
        "print(arr_lin)"
      ],
      "metadata": {
        "colab": {
          "base_uri": "https://localhost:8080/"
        },
        "id": "_IZpM0B9WLvL",
        "outputId": "c88392e8-1c2c-46ec-be9b-dc2d8a536990"
      },
      "execution_count": null,
      "outputs": [
        {
          "output_type": "stream",
          "name": "stdout",
          "text": [
            "[ 0.  5. 10. 15. 20.]\n"
          ]
        }
      ]
    },
    {
      "cell_type": "markdown",
      "source": [
        "# Generating Random Numbers"
      ],
      "metadata": {
        "id": "rzrXnQTJaqKs"
      }
    },
    {
      "cell_type": "markdown",
      "source": [
        "## rand()"
      ],
      "metadata": {
        "id": "17Run1xKbbBp"
      }
    },
    {
      "cell_type": "code",
      "source": [
        "a=np.random.rand(5)\n",
        "print(a)"
      ],
      "metadata": {
        "colab": {
          "base_uri": "https://localhost:8080/"
        },
        "id": "3H_ZoXzcatwZ",
        "outputId": "5ee90e34-bdf8-42cf-ac6b-1cbd453a6ea1"
      },
      "execution_count": null,
      "outputs": [
        {
          "output_type": "stream",
          "name": "stdout",
          "text": [
            "[0.70889419 0.74795697 0.13919882 0.86001556 0.33635725]\n"
          ]
        }
      ]
    },
    {
      "cell_type": "code",
      "source": [
        "b=np.random.rand(2,3)\n",
        "print(b)"
      ],
      "metadata": {
        "colab": {
          "base_uri": "https://localhost:8080/"
        },
        "id": "7wBH_6wHa_y_",
        "outputId": "7d053859-d422-40fb-dd82-624e2f926a3c"
      },
      "execution_count": null,
      "outputs": [
        {
          "output_type": "stream",
          "name": "stdout",
          "text": [
            "[[0.33104947 0.53420698 0.91464931]\n",
            " [0.41214535 0.46059721 0.44060273]]\n"
          ]
        }
      ]
    },
    {
      "cell_type": "markdown",
      "source": [
        "## randn()"
      ],
      "metadata": {
        "id": "S3LpmBUdbePp"
      }
    },
    {
      "cell_type": "code",
      "source": [
        "c=np.random.randn(5)\n",
        "print(c)"
      ],
      "metadata": {
        "colab": {
          "base_uri": "https://localhost:8080/"
        },
        "id": "xY8kJfRbbEat",
        "outputId": "d9f253d3-92aa-46ca-b303-c96fb3bf7fa3"
      },
      "execution_count": null,
      "outputs": [
        {
          "output_type": "stream",
          "name": "stdout",
          "text": [
            "[ 0.25296494 -1.80140146 -0.14909299  1.13351741 -0.61829863]\n"
          ]
        }
      ]
    },
    {
      "cell_type": "code",
      "source": [
        "d=np.random.randn(2,3)\n",
        "print(d)"
      ],
      "metadata": {
        "colab": {
          "base_uri": "https://localhost:8080/"
        },
        "id": "QKGWF9ERbz10",
        "outputId": "9b1fd0db-40d7-4757-db5d-856632de14f8"
      },
      "execution_count": null,
      "outputs": [
        {
          "output_type": "stream",
          "name": "stdout",
          "text": [
            "[[ 0.2079579  -0.6863014  -0.66372614]\n",
            " [ 0.41225328  1.13229688  1.60212649]]\n"
          ]
        }
      ]
    },
    {
      "cell_type": "markdown",
      "source": [
        "## ranf()"
      ],
      "metadata": {
        "id": "XGgrbehLcSr8"
      }
    },
    {
      "cell_type": "code",
      "source": [
        "var1=np.random.ranf(4)\n",
        "print(var1)"
      ],
      "metadata": {
        "colab": {
          "base_uri": "https://localhost:8080/"
        },
        "id": "MgjO06eOcDot",
        "outputId": "c358d256-e7c7-4999-e90a-3d1f7fe22dfa"
      },
      "execution_count": null,
      "outputs": [
        {
          "output_type": "stream",
          "name": "stdout",
          "text": [
            "[0.61080588 0.97098648 0.08580953 0.40467945]\n"
          ]
        }
      ]
    },
    {
      "cell_type": "code",
      "source": [
        "var2=np.random.ranf((4,2))\n",
        "print(var2)"
      ],
      "metadata": {
        "colab": {
          "base_uri": "https://localhost:8080/"
        },
        "id": "bZV82Y5nca9Y",
        "outputId": "83f8f849-cf12-4e6f-c3e0-4598dc7ad057"
      },
      "execution_count": null,
      "outputs": [
        {
          "output_type": "stream",
          "name": "stdout",
          "text": [
            "[[0.1356109  0.02950353]\n",
            " [0.86602798 0.83825641]\n",
            " [0.04183528 0.6270136 ]\n",
            " [0.58265969 0.69860042]]\n"
          ]
        }
      ]
    },
    {
      "cell_type": "markdown",
      "source": [
        "## randint()"
      ],
      "metadata": {
        "id": "_T_NT-x8dR98"
      }
    },
    {
      "cell_type": "code",
      "source": [
        "x=np.random.randint(2,45,4)\n",
        "print(x)"
      ],
      "metadata": {
        "colab": {
          "base_uri": "https://localhost:8080/"
        },
        "id": "DNuQe_IwciYU",
        "outputId": "724311ad-9bee-4fc0-d8ba-a5dd00d09b0d"
      },
      "execution_count": null,
      "outputs": [
        {
          "output_type": "stream",
          "name": "stdout",
          "text": [
            "[26 12 31  7]\n"
          ]
        }
      ]
    },
    {
      "cell_type": "markdown",
      "source": [
        "# Data Type"
      ],
      "metadata": {
        "id": "sZPLrO1qooZy"
      }
    },
    {
      "cell_type": "code",
      "source": [
        "var=np.array([4,45,23,67,3])\n",
        "var.dtype"
      ],
      "metadata": {
        "colab": {
          "base_uri": "https://localhost:8080/"
        },
        "id": "Fh7Ig8GTdbEs",
        "outputId": "a7e47ed7-ccdc-4ff5-e1e0-91b2b3b0d615"
      },
      "execution_count": null,
      "outputs": [
        {
          "output_type": "execute_result",
          "data": {
            "text/plain": [
              "dtype('int64')"
            ]
          },
          "metadata": {},
          "execution_count": 82
        }
      ]
    },
    {
      "cell_type": "code",
      "source": [
        "var1=np.array([4,45.0,23,6.4,3])\n",
        "var1.dtype"
      ],
      "metadata": {
        "colab": {
          "base_uri": "https://localhost:8080/"
        },
        "id": "aOugXYqjpJte",
        "outputId": "3a1313bc-bc86-4f27-bace-9ad433bea816"
      },
      "execution_count": null,
      "outputs": [
        {
          "output_type": "execute_result",
          "data": {
            "text/plain": [
              "dtype('float64')"
            ]
          },
          "metadata": {},
          "execution_count": 83
        }
      ]
    },
    {
      "cell_type": "code",
      "source": [
        "var2=np.array(['a','d','frd'])\n",
        "var2.dtype"
      ],
      "metadata": {
        "colab": {
          "base_uri": "https://localhost:8080/"
        },
        "id": "O1XpnguBqF-D",
        "outputId": "6bcd654c-8340-458c-a727-f9c277ae477d"
      },
      "execution_count": null,
      "outputs": [
        {
          "output_type": "execute_result",
          "data": {
            "text/plain": [
              "dtype('<U3')"
            ]
          },
          "metadata": {},
          "execution_count": 84
        }
      ]
    },
    {
      "cell_type": "code",
      "source": [
        "var3=np.array(['a','d','frd',44,56])\n",
        "var3.dtype"
      ],
      "metadata": {
        "colab": {
          "base_uri": "https://localhost:8080/"
        },
        "id": "ASzBa4MIqZl6",
        "outputId": "2d5cdecc-c7dc-42ad-c536-bea8b896a19b"
      },
      "execution_count": null,
      "outputs": [
        {
          "output_type": "execute_result",
          "data": {
            "text/plain": [
              "dtype('<U21')"
            ]
          },
          "metadata": {},
          "execution_count": 85
        }
      ]
    },
    {
      "cell_type": "code",
      "source": [
        "x=np.array([3,4,2,1],dtype=np.int8)\n",
        "x.dtype\n",
        "print(x)"
      ],
      "metadata": {
        "colab": {
          "base_uri": "https://localhost:8080/"
        },
        "id": "oNMWz-OwqeAi",
        "outputId": "28e4d576-4822-423f-8e30-ea710356405d"
      },
      "execution_count": null,
      "outputs": [
        {
          "output_type": "stream",
          "name": "stdout",
          "text": [
            "[3 4 2 1]\n"
          ]
        }
      ]
    },
    {
      "cell_type": "code",
      "source": [
        "x1=np.array([3,4,2,1],dtype='f')\n",
        "x1.dtype\n",
        "print(x1)"
      ],
      "metadata": {
        "colab": {
          "base_uri": "https://localhost:8080/"
        },
        "id": "BhtuVRAYtJDW",
        "outputId": "461ea773-0682-4601-d960-46853ae2c187"
      },
      "execution_count": null,
      "outputs": [
        {
          "output_type": "stream",
          "name": "stdout",
          "text": [
            "[3. 4. 2. 1.]\n"
          ]
        }
      ]
    },
    {
      "cell_type": "code",
      "source": [
        "x2=np.array([3,4,2,1])\n",
        "new=np.float32(x2)\n",
        "x2.dtype\n",
        "print(x2)\n",
        "print(new)"
      ],
      "metadata": {
        "colab": {
          "base_uri": "https://localhost:8080/"
        },
        "id": "EXNSSlHgthQF",
        "outputId": "aa46d5de-e8a7-4d77-9ca7-a016f8d8dda9"
      },
      "execution_count": null,
      "outputs": [
        {
          "output_type": "stream",
          "name": "stdout",
          "text": [
            "[3 4 2 1]\n",
            "[3. 4. 2. 1.]\n"
          ]
        }
      ]
    },
    {
      "cell_type": "code",
      "source": [
        "x3=np.array([3,4,2,1])\n",
        "new_one=x3.astype(float)\n",
        "print(new_one)\n",
        "new_one.dtype"
      ],
      "metadata": {
        "colab": {
          "base_uri": "https://localhost:8080/"
        },
        "id": "skLPdGs1usH0",
        "outputId": "bbc71682-14c9-4ff3-81aa-d50f898f15ca"
      },
      "execution_count": null,
      "outputs": [
        {
          "output_type": "stream",
          "name": "stdout",
          "text": [
            "[3. 4. 2. 1.]\n"
          ]
        },
        {
          "output_type": "execute_result",
          "data": {
            "text/plain": [
              "dtype('float64')"
            ]
          },
          "metadata": {},
          "execution_count": 89
        }
      ]
    },
    {
      "cell_type": "markdown",
      "source": [
        "# Arithmetic Operations in Numpy Arrays"
      ],
      "metadata": {
        "id": "adBSNJY02DUI"
      }
    },
    {
      "cell_type": "code",
      "source": [
        "var=np.array([1,2,3,4])\n",
        "varadd=var+4\n",
        "print(varadd)"
      ],
      "metadata": {
        "colab": {
          "base_uri": "https://localhost:8080/"
        },
        "id": "qzOFA4qUu_jj",
        "outputId": "ff696b22-8ef8-4120-da3f-065ddfa42f0a"
      },
      "execution_count": null,
      "outputs": [
        {
          "output_type": "stream",
          "name": "stdout",
          "text": [
            "[5 6 7 8]\n"
          ]
        }
      ]
    },
    {
      "cell_type": "code",
      "source": [
        "var1=np.array([1,2,3,4])\n",
        "var2=np.array([1,1,1,3])\n",
        "sum=var1+var2\n",
        "print('Sum= ',sum)"
      ],
      "metadata": {
        "colab": {
          "base_uri": "https://localhost:8080/"
        },
        "id": "-oRT8q7f6c3d",
        "outputId": "6979a2bc-e0b2-4919-9354-b19c69b423f6"
      },
      "execution_count": null,
      "outputs": [
        {
          "output_type": "stream",
          "name": "stdout",
          "text": [
            "Sum=  [2 3 4 7]\n"
          ]
        }
      ]
    },
    {
      "cell_type": "code",
      "source": [
        "var=np.array([1,2,3,4])\n",
        "varsub=var-8\n",
        "print(varsub)"
      ],
      "metadata": {
        "colab": {
          "base_uri": "https://localhost:8080/"
        },
        "id": "2U3l4T2j7Lx9",
        "outputId": "bbdbdeb0-c460-4fe4-a6c3-e11307c34f88"
      },
      "execution_count": null,
      "outputs": [
        {
          "output_type": "stream",
          "name": "stdout",
          "text": [
            "[-7 -6 -5 -4]\n"
          ]
        }
      ]
    },
    {
      "cell_type": "code",
      "source": [
        "var=np.array([1,2,3,4])\n",
        "varmultiply=var*8\n",
        "print(varmultiply)"
      ],
      "metadata": {
        "colab": {
          "base_uri": "https://localhost:8080/"
        },
        "id": "_Z3iVq_Y7TZm",
        "outputId": "2c1fb61c-1de0-4d6a-9217-685b9bb2ff23"
      },
      "execution_count": null,
      "outputs": [
        {
          "output_type": "stream",
          "name": "stdout",
          "text": [
            "[ 8 16 24 32]\n"
          ]
        }
      ]
    },
    {
      "cell_type": "code",
      "source": [
        "var=np.array([1,2,3,4])\n",
        "var_divide=var/8\n",
        "print(var_divide)"
      ],
      "metadata": {
        "colab": {
          "base_uri": "https://localhost:8080/"
        },
        "id": "6eZ0A6f07cLC",
        "outputId": "69072a8c-de47-4893-f5bf-907f20eba6e1"
      },
      "execution_count": null,
      "outputs": [
        {
          "output_type": "stream",
          "name": "stdout",
          "text": [
            "[0.125 0.25  0.375 0.5  ]\n"
          ]
        }
      ]
    },
    {
      "cell_type": "code",
      "source": [
        "var=np.array([1,2,3,4])\n",
        "var_remainder=var%4\n",
        "print(var_remainder)"
      ],
      "metadata": {
        "colab": {
          "base_uri": "https://localhost:8080/"
        },
        "id": "gQeeBP-h7m7g",
        "outputId": "c2fa26e2-ff73-47b3-b3bd-0bea210905fc"
      },
      "execution_count": null,
      "outputs": [
        {
          "output_type": "stream",
          "name": "stdout",
          "text": [
            "[1 2 3 0]\n"
          ]
        }
      ]
    },
    {
      "cell_type": "code",
      "source": [
        "var=np.array([1,2,3,4])\n",
        "var_power=var**2\n",
        "print(var_power)"
      ],
      "metadata": {
        "colab": {
          "base_uri": "https://localhost:8080/"
        },
        "id": "PUirm9g97w3d",
        "outputId": "0e9cf48f-596f-4e4f-859e-13ef72209b8b"
      },
      "execution_count": null,
      "outputs": [
        {
          "output_type": "stream",
          "name": "stdout",
          "text": [
            "[ 1  4  9 16]\n"
          ]
        }
      ]
    },
    {
      "cell_type": "code",
      "source": [
        "var1=np.array([1,2,3,4])\n",
        "var2=np.array([1,4,1,3])\n",
        "sum=np.add(var1,var2)\n",
        "print('Sum= ',sum)"
      ],
      "metadata": {
        "colab": {
          "base_uri": "https://localhost:8080/"
        },
        "id": "1l3Cq8UF8CJW",
        "outputId": "4a602f51-3433-41ea-a3da-0ae38330eb48"
      },
      "execution_count": null,
      "outputs": [
        {
          "output_type": "stream",
          "name": "stdout",
          "text": [
            "Sum=  [2 6 4 7]\n"
          ]
        }
      ]
    },
    {
      "cell_type": "code",
      "source": [
        "remainder=np.mod(var1,var2)\n",
        "print(remainder)"
      ],
      "metadata": {
        "colab": {
          "base_uri": "https://localhost:8080/"
        },
        "id": "dszbRd4_8qL2",
        "outputId": "c7abc64f-3a54-4e38-f92c-7effccfd5633"
      },
      "execution_count": null,
      "outputs": [
        {
          "output_type": "stream",
          "name": "stdout",
          "text": [
            "[0 2 0 1]\n"
          ]
        }
      ]
    },
    {
      "cell_type": "code",
      "source": [
        "power=np.power(var1,var2)\n",
        "print(power)"
      ],
      "metadata": {
        "colab": {
          "base_uri": "https://localhost:8080/"
        },
        "id": "tVZf0-K88z1a",
        "outputId": "94f14536-8156-4e47-9a9b-717de43f9e42"
      },
      "execution_count": null,
      "outputs": [
        {
          "output_type": "stream",
          "name": "stdout",
          "text": [
            "[ 1 16  3 64]\n"
          ]
        }
      ]
    },
    {
      "cell_type": "code",
      "source": [
        "var1=np.array([1,2,3,4],dtype='f')\n",
        "print(np.reciprocal(var1))"
      ],
      "metadata": {
        "colab": {
          "base_uri": "https://localhost:8080/"
        },
        "id": "C1r9E4AA9CAN",
        "outputId": "3d0e37b1-1466-42ed-b796-41244ad56dee"
      },
      "execution_count": null,
      "outputs": [
        {
          "output_type": "stream",
          "name": "stdout",
          "text": [
            "[1.         0.5        0.33333334 0.25      ]\n"
          ]
        }
      ]
    },
    {
      "cell_type": "markdown",
      "source": [
        "## 2D Array"
      ],
      "metadata": {
        "id": "ljcWo-OPBfWP"
      }
    },
    {
      "cell_type": "code",
      "source": [
        "var1=np.array([[2,3,4],[1,2,3]])\n",
        "var2=np.array([[1,2,3],[5,6,7]])\n",
        "add=np.add(var1,var2)\n",
        "print(add)"
      ],
      "metadata": {
        "colab": {
          "base_uri": "https://localhost:8080/"
        },
        "id": "nSmWa0_w9In5",
        "outputId": "4a437e9a-7d81-43d0-9ded-2026315fd34e"
      },
      "execution_count": null,
      "outputs": [
        {
          "output_type": "stream",
          "name": "stdout",
          "text": [
            "[[ 3  5  7]\n",
            " [ 6  8 10]]\n"
          ]
        }
      ]
    },
    {
      "cell_type": "code",
      "source": [
        "var1=np.array([[2,3,4],[1,2,3]])\n",
        "var2=np.array([[1,2,3],[5,6,7]])\n",
        "multiply=np.multiply(var1,var2)\n",
        "print(multiply)"
      ],
      "metadata": {
        "colab": {
          "base_uri": "https://localhost:8080/"
        },
        "id": "e6gwkIM0Cyon",
        "outputId": "aa609afe-b4c2-473e-aee3-89e76cd0c46f"
      },
      "execution_count": null,
      "outputs": [
        {
          "output_type": "stream",
          "name": "stdout",
          "text": [
            "[[ 2  6 12]\n",
            " [ 5 12 21]]\n"
          ]
        }
      ]
    }
  ]
}