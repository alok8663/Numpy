{
  "nbformat": 4,
  "nbformat_minor": 0,
  "metadata": {
    "colab": {
      "provenance": []
    },
    "kernelspec": {
      "name": "python3",
      "display_name": "Python 3"
    },
    "language_info": {
      "name": "python"
    }
  },
  "cells": [
    {
      "cell_type": "markdown",
      "source": [
        "[![Open In Colab](https://colab.research.google.com/assets/colab-badge.svg)](https://colab.research.google.com/github/alok8663/Numpy/blob/main/Numpy3.ipynb)\n"
      ],
      "metadata": {
        "id": "KY6dk0gCvkfF"
      }
    },
    {
      "cell_type": "markdown",
      "source": [
        "# Numpy Arrays Functions"
      ],
      "metadata": {
        "id": "zgTRNoU-wFCp"
      }
    },
    {
      "cell_type": "markdown",
      "source": [
        "## Search Array"
      ],
      "metadata": {
        "id": "vOEO1DONwKxc"
      }
    },
    {
      "cell_type": "code",
      "execution_count": 65,
      "metadata": {
        "colab": {
          "base_uri": "https://localhost:8080/"
        },
        "id": "XDwAdnEccGtX",
        "outputId": "a0997e31-5cbc-4518-e536-31da61c05f79"
      },
      "outputs": [
        {
          "output_type": "stream",
          "name": "stdout",
          "text": [
            "(array([0, 2, 3, 6, 7]),)\n"
          ]
        }
      ],
      "source": [
        "import numpy as np\n",
        "var=np.array([4,3,2,6,7,5,8,12])\n",
        "x=np.where((var%2==0))\n",
        "print(x)"
      ]
    },
    {
      "cell_type": "code",
      "source": [
        "var1=np.array([1,2,3,4,6,7,8])\n",
        "y=np.searchsorted(var1,5)\n",
        "print(y)"
      ],
      "metadata": {
        "colab": {
          "base_uri": "https://localhost:8080/"
        },
        "id": "UQjRlBCYyi-q",
        "outputId": "d02e3ad4-1aa1-448b-a506-4862cf149d54"
      },
      "execution_count": 66,
      "outputs": [
        {
          "output_type": "stream",
          "name": "stdout",
          "text": [
            "4\n"
          ]
        }
      ]
    },
    {
      "cell_type": "markdown",
      "source": [
        "# Sort Array"
      ],
      "metadata": {
        "id": "H6WRNmNXJarj"
      }
    },
    {
      "cell_type": "code",
      "source": [
        "var=np.array([4,3,2,6,7,5,8,12])\n",
        "print(np.sort(var))"
      ],
      "metadata": {
        "colab": {
          "base_uri": "https://localhost:8080/"
        },
        "id": "72r_a4C-Jccj",
        "outputId": "ead93201-5c28-45ca-cdc9-841789c88a09"
      },
      "execution_count": 67,
      "outputs": [
        {
          "output_type": "stream",
          "name": "stdout",
          "text": [
            "[ 2  3  4  5  6  7  8 12]\n"
          ]
        }
      ]
    },
    {
      "cell_type": "code",
      "source": [
        "var1=np.array([[4,2,3],[1,12,5],[22,52,6]])\n",
        "print(np.sort(var1))"
      ],
      "metadata": {
        "colab": {
          "base_uri": "https://localhost:8080/"
        },
        "id": "-V40Jwp0J_it",
        "outputId": "64f128c8-6c6a-452c-8557-2ef840a2bc02"
      },
      "execution_count": 68,
      "outputs": [
        {
          "output_type": "stream",
          "name": "stdout",
          "text": [
            "[[ 2  3  4]\n",
            " [ 1  5 12]\n",
            " [ 6 22 52]]\n"
          ]
        }
      ]
    },
    {
      "cell_type": "code",
      "source": [
        "var2=np.array(['a','s','d','f'])\n",
        "print(np.sort(var2))"
      ],
      "metadata": {
        "colab": {
          "base_uri": "https://localhost:8080/"
        },
        "id": "kcRffwKwLipy",
        "outputId": "77d923ac-54c0-44c4-d362-84ef3210d22c"
      },
      "execution_count": 69,
      "outputs": [
        {
          "output_type": "stream",
          "name": "stdout",
          "text": [
            "['a' 'd' 'f' 's']\n"
          ]
        }
      ]
    },
    {
      "cell_type": "markdown",
      "source": [
        "# Filter Array"
      ],
      "metadata": {
        "id": "ILJA2zM-J_CP"
      }
    },
    {
      "cell_type": "code",
      "source": [
        "# Filter Array is getting some elements out of an existing array and creating a new array out of them."
      ],
      "metadata": {
        "id": "PzR7QgJcKKTo"
      },
      "execution_count": 70,
      "outputs": []
    },
    {
      "cell_type": "code",
      "source": [
        "var3=np.array(['a','s','d','f'])\n",
        "f=[True,False,True,False]\n",
        "new_a=var3[f]\n",
        "print(new_a)\n",
        "print(type(new_a))"
      ],
      "metadata": {
        "colab": {
          "base_uri": "https://localhost:8080/"
        },
        "id": "0MyJ-YQ6LvcL",
        "outputId": "6d5840fb-e0a7-4d9f-e1da-af06ee648067"
      },
      "execution_count": 71,
      "outputs": [
        {
          "output_type": "stream",
          "name": "stdout",
          "text": [
            "['a' 'd']\n",
            "<class 'numpy.ndarray'>\n"
          ]
        }
      ]
    },
    {
      "cell_type": "markdown",
      "source": [
        "# Arithmetic Functions"
      ],
      "metadata": {
        "id": "d4NhVTYLdKsh"
      }
    },
    {
      "cell_type": "markdown",
      "source": [
        "## Shuffle"
      ],
      "metadata": {
        "id": "foKEl-QbdPEv"
      }
    },
    {
      "cell_type": "code",
      "source": [
        "var1=np.array([1,2,3,4,6,7,8])\n",
        "np.random.shuffle(var1)\n",
        "print(var1)"
      ],
      "metadata": {
        "colab": {
          "base_uri": "https://localhost:8080/"
        },
        "id": "UCg-QLWcMbfN",
        "outputId": "ee685b88-848c-45a4-c503-4c47e90fc317"
      },
      "execution_count": 72,
      "outputs": [
        {
          "output_type": "stream",
          "name": "stdout",
          "text": [
            "[4 6 3 8 7 1 2]\n"
          ]
        }
      ]
    },
    {
      "cell_type": "markdown",
      "source": [
        "## Unique"
      ],
      "metadata": {
        "id": "2hYz9m9mejOR"
      }
    },
    {
      "cell_type": "code",
      "source": [
        "var4=np.array([1,2,3,2,4,2,6,7,8,2])\n",
        "x=np.unique(var4,return_index=True,return_counts=True)\n",
        "print(x)"
      ],
      "metadata": {
        "colab": {
          "base_uri": "https://localhost:8080/"
        },
        "id": "i9KWYAT_dCRF",
        "outputId": "8e8ca310-d2d8-4f64-ef29-ad92ea233322"
      },
      "execution_count": 73,
      "outputs": [
        {
          "output_type": "stream",
          "name": "stdout",
          "text": [
            "(array([1, 2, 3, 4, 6, 7, 8]), array([0, 1, 2, 4, 6, 7, 8]), array([1, 4, 1, 1, 1, 1, 1]))\n"
          ]
        }
      ]
    },
    {
      "cell_type": "markdown",
      "source": [
        "## Resize"
      ],
      "metadata": {
        "id": "NTPfVO0ofO_n"
      }
    },
    {
      "cell_type": "code",
      "source": [
        "var1=np.array([1,2,3,4,5,7])\n",
        "y=np.resize(var1,(3,2))\n",
        "print(y)"
      ],
      "metadata": {
        "colab": {
          "base_uri": "https://localhost:8080/"
        },
        "id": "kLkCRpQ0fGyQ",
        "outputId": "1110a0f1-0075-48d2-be51-9b1aeca14c48"
      },
      "execution_count": 74,
      "outputs": [
        {
          "output_type": "stream",
          "name": "stdout",
          "text": [
            "[[1 2]\n",
            " [3 4]\n",
            " [5 7]]\n"
          ]
        }
      ]
    },
    {
      "cell_type": "markdown",
      "source": [
        "## Flatten"
      ],
      "metadata": {
        "id": "DxaAeMA4gLod"
      }
    },
    {
      "cell_type": "code",
      "source": [
        "var1=np.array([1,2,3,4,5,7])\n",
        "y=np.resize(var1,(3,2))\n",
        "print(y.flatten())"
      ],
      "metadata": {
        "colab": {
          "base_uri": "https://localhost:8080/"
        },
        "id": "zYLQyV2ofgeM",
        "outputId": "fbe37620-118c-467c-ea1a-e1be6bdb83c6"
      },
      "execution_count": 75,
      "outputs": [
        {
          "output_type": "stream",
          "name": "stdout",
          "text": [
            "[1 2 3 4 5 7]\n"
          ]
        }
      ]
    },
    {
      "cell_type": "code",
      "source": [
        "print(y.ravel())"
      ],
      "metadata": {
        "colab": {
          "base_uri": "https://localhost:8080/"
        },
        "id": "iryHMWqggRkX",
        "outputId": "a7968d3f-f62f-4f61-a379-7bf565136fb5"
      },
      "execution_count": 76,
      "outputs": [
        {
          "output_type": "stream",
          "name": "stdout",
          "text": [
            "[1 2 3 4 5 7]\n"
          ]
        }
      ]
    },
    {
      "cell_type": "markdown",
      "source": [
        "# Insert"
      ],
      "metadata": {
        "id": "DGJ4OAUClQcY"
      }
    },
    {
      "cell_type": "code",
      "source": [
        "arr1=np.array([1,2,3,4])\n",
        "v=np.insert(arr1,(2,4),33)\n",
        "print(v)"
      ],
      "metadata": {
        "colab": {
          "base_uri": "https://localhost:8080/"
        },
        "id": "6DMerM0rlSSF",
        "outputId": "cbf8f733-f8dc-4643-e0a9-b94b97939066"
      },
      "execution_count": 77,
      "outputs": [
        {
          "output_type": "stream",
          "name": "stdout",
          "text": [
            "[ 1  2 33  3  4 33]\n"
          ]
        }
      ]
    },
    {
      "cell_type": "code",
      "source": [
        "arr4=np.array([1,2,3,4])\n",
        "v4=np.append(arr4,7.8)\n",
        "print(v4)"
      ],
      "metadata": {
        "colab": {
          "base_uri": "https://localhost:8080/"
        },
        "id": "SAvbD4DHnj-H",
        "outputId": "6cba5061-6ea8-4369-e5eb-c176d4fa7abb"
      },
      "execution_count": 78,
      "outputs": [
        {
          "output_type": "stream",
          "name": "stdout",
          "text": [
            "[1.  2.  3.  4.  7.8]\n"
          ]
        }
      ]
    },
    {
      "cell_type": "code",
      "source": [
        "arr2=np.array([[1,2,3],[3,2,1]])\n",
        "v1=np.insert(arr2,2,5,axis=0)\n",
        "print(v1)"
      ],
      "metadata": {
        "colab": {
          "base_uri": "https://localhost:8080/"
        },
        "id": "JR2jUQaUmVRp",
        "outputId": "ad59a764-1dba-4cea-8a7e-e33d9a2f1556"
      },
      "execution_count": 79,
      "outputs": [
        {
          "output_type": "stream",
          "name": "stdout",
          "text": [
            "[[1 2 3]\n",
            " [3 2 1]\n",
            " [5 5 5]]\n"
          ]
        }
      ]
    },
    {
      "cell_type": "code",
      "source": [
        "arr3=np.array([[1,2,3],[3,2,1]])\n",
        "v2=np.insert(arr2,2,[7,8,9],axis=0)\n",
        "print(v2)"
      ],
      "metadata": {
        "colab": {
          "base_uri": "https://localhost:8080/"
        },
        "id": "OtJHStj7mh_Y",
        "outputId": "79659ea3-fb1b-4400-ee4f-937d0c548b4e"
      },
      "execution_count": 80,
      "outputs": [
        {
          "output_type": "stream",
          "name": "stdout",
          "text": [
            "[[1 2 3]\n",
            " [3 2 1]\n",
            " [7 8 9]]\n"
          ]
        }
      ]
    },
    {
      "cell_type": "markdown",
      "source": [
        "# Delete"
      ],
      "metadata": {
        "id": "HgQEcGDioGlK"
      }
    },
    {
      "cell_type": "code",
      "source": [
        "arr5=np.array([1,2,3,4])\n",
        "d=np.delete(arr5,2)\n",
        "print(d)"
      ],
      "metadata": {
        "colab": {
          "base_uri": "https://localhost:8080/"
        },
        "id": "pMJ9hkAroC6x",
        "outputId": "e21d45d6-555c-4faa-a8c5-da96cae9fc22"
      },
      "execution_count": 81,
      "outputs": [
        {
          "output_type": "stream",
          "name": "stdout",
          "text": [
            "[1 2 4]\n"
          ]
        }
      ]
    },
    {
      "cell_type": "markdown",
      "source": [
        "# Matrix"
      ],
      "metadata": {
        "id": "6kNqWLP2p2Tf"
      }
    },
    {
      "cell_type": "code",
      "source": [
        "a1=np.matrix([[1,2],[4,5]])\n",
        "print(a1)\n",
        "print()\n",
        "a3=np.matrix([[3,2],[6,5]])\n",
        "print(a3)\n",
        "print()\n",
        "print(a1+a3)\n",
        "print(type(a1))"
      ],
      "metadata": {
        "colab": {
          "base_uri": "https://localhost:8080/"
        },
        "id": "ji87Ppz4oje9",
        "outputId": "5a3bb362-3137-4511-84b2-ef9ab0af7f27"
      },
      "execution_count": 82,
      "outputs": [
        {
          "output_type": "stream",
          "name": "stdout",
          "text": [
            "[[1 2]\n",
            " [4 5]]\n",
            "\n",
            "[[3 2]\n",
            " [6 5]]\n",
            "\n",
            "[[ 4  4]\n",
            " [10 10]]\n",
            "<class 'numpy.matrix'>\n"
          ]
        }
      ]
    },
    {
      "cell_type": "code",
      "source": [
        "print(a1*a3)\n",
        "print()\n",
        "print(a1.dot(a3))"
      ],
      "metadata": {
        "colab": {
          "base_uri": "https://localhost:8080/"
        },
        "id": "4-6VqE6ssX9r",
        "outputId": "d3b9f0b3-5274-4e98-e2a5-9740abed1442"
      },
      "execution_count": 83,
      "outputs": [
        {
          "output_type": "stream",
          "name": "stdout",
          "text": [
            "[[15 12]\n",
            " [42 33]]\n",
            "\n",
            "[[15 12]\n",
            " [42 33]]\n"
          ]
        }
      ]
    },
    {
      "cell_type": "code",
      "source": [
        "a2=np.array([[1,2,3],[4,5,6]])\n",
        "a4=np.array([[3,2,1],[6,5,4]])\n",
        "print(a2)\n",
        "print()\n",
        "print(a4)\n",
        "print()\n",
        "print()\n",
        "print(a2*a4)\n",
        "print()\n",
        "print(np.multiply(a2,a4))"
      ],
      "metadata": {
        "colab": {
          "base_uri": "https://localhost:8080/"
        },
        "id": "5oZMnL4PqSnS",
        "outputId": "f3bf6745-5499-4d72-8dec-e81a7abc592e"
      },
      "execution_count": 84,
      "outputs": [
        {
          "output_type": "stream",
          "name": "stdout",
          "text": [
            "[[1 2 3]\n",
            " [4 5 6]]\n",
            "\n",
            "[[3 2 1]\n",
            " [6 5 4]]\n",
            "\n",
            "\n",
            "[[ 3  4  3]\n",
            " [24 25 24]]\n",
            "\n",
            "[[ 3  4  3]\n",
            " [24 25 24]]\n"
          ]
        }
      ]
    },
    {
      "cell_type": "markdown",
      "source": [
        "# Matrix Function in Numpy Arrays"
      ],
      "metadata": {
        "id": "xx1YLQx-u1d6"
      }
    },
    {
      "cell_type": "markdown",
      "source": [
        "## Transpose"
      ],
      "metadata": {
        "id": "18SkIoJvwOxe"
      }
    },
    {
      "cell_type": "code",
      "source": [
        "c=np.matrix([[1,2,3],[4,5,6]])\n",
        "print(c)\n",
        "print()\n",
        "print(np.transpose(c))\n",
        "print()\n",
        "print(c.T)"
      ],
      "metadata": {
        "colab": {
          "base_uri": "https://localhost:8080/"
        },
        "id": "pWiDu-3Srukz",
        "outputId": "f6b1c5a0-fab9-429c-d835-a1841f98f1df"
      },
      "execution_count": 85,
      "outputs": [
        {
          "output_type": "stream",
          "name": "stdout",
          "text": [
            "[[1 2 3]\n",
            " [4 5 6]]\n",
            "\n",
            "[[1 4]\n",
            " [2 5]\n",
            " [3 6]]\n",
            "\n",
            "[[1 4]\n",
            " [2 5]\n",
            " [3 6]]\n"
          ]
        }
      ]
    },
    {
      "cell_type": "markdown",
      "source": [
        "## Swapaxes"
      ],
      "metadata": {
        "id": "dQGBPUzywkq4"
      }
    },
    {
      "cell_type": "code",
      "source": [
        "print(np.swapaxes(c,0,1))"
      ],
      "metadata": {
        "colab": {
          "base_uri": "https://localhost:8080/"
        },
        "id": "q38rpVAkwpCj",
        "outputId": "586c9fdb-fb85-4b1f-88eb-787a583a675c"
      },
      "execution_count": 86,
      "outputs": [
        {
          "output_type": "stream",
          "name": "stdout",
          "text": [
            "[[1 4]\n",
            " [2 5]\n",
            " [3 6]]\n"
          ]
        }
      ]
    },
    {
      "cell_type": "code",
      "source": [
        "a1=np.matrix([[1,2],[4,5]])\n",
        "print(a1)\n",
        "print()\n",
        "print(np.swapaxes(a1,0,1))"
      ],
      "metadata": {
        "colab": {
          "base_uri": "https://localhost:8080/"
        },
        "id": "W9VH547i2--j",
        "outputId": "8528c696-71db-4289-cba5-c7004c69a4c7"
      },
      "execution_count": 87,
      "outputs": [
        {
          "output_type": "stream",
          "name": "stdout",
          "text": [
            "[[1 2]\n",
            " [4 5]]\n",
            "\n",
            "[[1 4]\n",
            " [2 5]]\n"
          ]
        }
      ]
    },
    {
      "cell_type": "markdown",
      "source": [
        "## Inverse"
      ],
      "metadata": {
        "id": "FDdbq7Tg4rJI"
      }
    },
    {
      "cell_type": "code",
      "source": [
        "a1=np.matrix([[1,2],[4,5]])\n",
        "print(a1)\n",
        "print()\n",
        "print(np.linalg.inv(a1))"
      ],
      "metadata": {
        "colab": {
          "base_uri": "https://localhost:8080/"
        },
        "id": "MliP0fr14tmH",
        "outputId": "144fd9a2-0db3-46a5-ba0b-f14dcbc12c2a"
      },
      "execution_count": 88,
      "outputs": [
        {
          "output_type": "stream",
          "name": "stdout",
          "text": [
            "[[1 2]\n",
            " [4 5]]\n",
            "\n",
            "[[-1.66666667  0.66666667]\n",
            " [ 1.33333333 -0.33333333]]\n"
          ]
        }
      ]
    },
    {
      "cell_type": "markdown",
      "source": [
        "## Power"
      ],
      "metadata": {
        "id": "TP9Q8gRf6AOn"
      }
    },
    {
      "cell_type": "code",
      "source": [
        "a1=np.matrix([[1,2],[4,5]])\n",
        "print(a1)\n",
        "print()\n",
        "print(np.linalg.matrix_power(a1,2))"
      ],
      "metadata": {
        "colab": {
          "base_uri": "https://localhost:8080/"
        },
        "id": "qaDnGE_n5uMU",
        "outputId": "180c5d32-4e71-4ab7-9723-a89ced5af201"
      },
      "execution_count": 91,
      "outputs": [
        {
          "output_type": "stream",
          "name": "stdout",
          "text": [
            "[[1 2]\n",
            " [4 5]]\n",
            "\n",
            "[[ 9 12]\n",
            " [24 33]]\n"
          ]
        }
      ]
    },
    {
      "cell_type": "code",
      "source": [
        "print(np.linalg.matrix_power(a1,0))    # Here, it will print Identity Matrix"
      ],
      "metadata": {
        "colab": {
          "base_uri": "https://localhost:8080/"
        },
        "id": "rfa36Dgq-f7r",
        "outputId": "893de9ea-631a-4e95-a9cc-778e6e820e3f"
      },
      "execution_count": 92,
      "outputs": [
        {
          "output_type": "stream",
          "name": "stdout",
          "text": [
            "[[1 0]\n",
            " [0 1]]\n"
          ]
        }
      ]
    },
    {
      "cell_type": "code",
      "source": [
        "a1=np.matrix([[1,2],[4,5]])\n",
        "print(a1)\n",
        "print()\n",
        "print(np.linalg.det(a1))"
      ],
      "metadata": {
        "colab": {
          "base_uri": "https://localhost:8080/"
        },
        "id": "wCzUf0jE-ojD",
        "outputId": "b33812c8-9cec-496d-87d6-518725f1f723"
      },
      "execution_count": 93,
      "outputs": [
        {
          "output_type": "stream",
          "name": "stdout",
          "text": [
            "[[1 2]\n",
            " [4 5]]\n",
            "\n",
            "-2.9999999999999996\n"
          ]
        }
      ]
    }
  ]
}